{
 "cells": [
  {
   "cell_type": "markdown",
   "metadata": {
    "id": "Gn3Xju2H0zFU"
   },
   "source": [
    "# Import required libraries"
   ]
  },
  {
   "cell_type": "code",
   "execution_count": 1,
   "metadata": {
    "id": "-uFsyE310zFX"
   },
   "outputs": [],
   "source": [
    "import pandas as pd\n",
    "import sklearn.model_selection as skms"
   ]
  },
  {
   "cell_type": "markdown",
   "metadata": {
    "id": "GHvKS__y0zFX"
   },
   "source": [
    "# Load dataset"
   ]
  },
  {
   "cell_type": "code",
   "execution_count": 2,
   "metadata": {
    "colab": {
     "base_uri": "https://localhost:8080/"
    },
    "id": "rllCsaFS0zFX",
    "outputId": "7961766b-f699-4cfb-fc97-97ad7ead1a9b"
   },
   "outputs": [
    {
     "name": "stdout",
     "output_type": "stream",
     "text": [
      "<class 'pandas.core.frame.DataFrame'>\n",
      "RangeIndex: 120 entries, 0 to 119\n",
      "Data columns (total 5 columns):\n",
      " #   Column       Non-Null Count  Dtype  \n",
      "---  ------       --------------  -----  \n",
      " 0   salary       120 non-null    float64\n",
      " 1   gender       120 non-null    object \n",
      " 2   married      120 non-null    object \n",
      " 3   achievement  120 non-null    float64\n",
      " 4   scholarship  120 non-null    bool   \n",
      "dtypes: bool(1), float64(2), object(2)\n",
      "memory usage: 4.0+ KB\n"
     ]
    }
   ],
   "source": [
    "dataset_ulr = 'https://raw.githubusercontent.com/leticiaarco/practical_ethical_ai_resources/refs/heads/main/scholarship.csv'\n",
    "data = pd.read_csv(dataset_ulr)\n",
    "data.head()\n",
    "df = pd.DataFrame(data)\n",
    "data.info()"
   ]
  },
  {
   "cell_type": "markdown",
   "metadata": {
    "id": "g5dx6bCU0zFY"
   },
   "source": [
    "# Handle data"
   ]
  },
  {
   "cell_type": "markdown",
   "metadata": {
    "id": "DDUZVP3X22X9"
   },
   "source": [
    "Transform feature values"
   ]
  },
  {
   "cell_type": "code",
   "execution_count": 3,
   "metadata": {
    "id": "VNcv54Mi3FK9"
   },
   "outputs": [],
   "source": [
    "transformed_data = data\n",
    "\n",
    "transformed_data['gender'] = transformed_data['gender'].map({\n",
    "    'F':1,\n",
    "    'M':0,\n",
    "})\n",
    "\n",
    "transformed_data['married'] = transformed_data['married'].map({\n",
    "    'Y':1,\n",
    "    'N':0,\n",
    "})"
   ]
  },
  {
   "cell_type": "markdown",
   "metadata": {
    "id": "gTTAuwfm3Ki7"
   },
   "source": [
    "Split dataset by predictive features (X) and objective feature (y)"
   ]
  },
  {
   "cell_type": "code",
   "execution_count": 4,
   "metadata": {
    "id": "mtHUtXui0zFY"
   },
   "outputs": [],
   "source": [
    "X = transformed_data.drop('scholarship', axis=1)\n",
    "y = transformed_data['scholarship']"
   ]
  },
  {
   "cell_type": "markdown",
   "metadata": {
    "id": "KbKU2Kd73cyx"
   },
   "source": [
    "Split dataset in train and test sets"
   ]
  },
  {
   "cell_type": "code",
   "execution_count": 5,
   "metadata": {
    "id": "GYA1vT7p3fxL"
   },
   "outputs": [],
   "source": [
    "X_train, X_test, y_train, y_test = skms.train_test_split(X, y, test_size=0.3, random_state=0)"
   ]
  },
  {
   "cell_type": "markdown",
   "metadata": {
    "id": "4RX1EAkA0zFY"
   },
   "source": [
    "# Train the classifier"
   ]
  },
  {
   "cell_type": "markdown",
   "metadata": {
    "id": "2CTtzDwZJBac"
   },
   "source": [
    "Imports"
   ]
  },
  {
   "cell_type": "code",
   "execution_count": 6,
   "metadata": {
    "id": "qALDWMTHJDtg"
   },
   "outputs": [],
   "source": [
    "import tensorflow.keras.models as tkm\n",
    "import tensorflow.keras.layers as tkl"
   ]
  },
  {
   "cell_type": "markdown",
   "metadata": {
    "id": "QtIwkKhz8HzU"
   },
   "source": [
    "Initialize keras sequential model"
   ]
  },
  {
   "cell_type": "code",
   "execution_count": 7,
   "metadata": {
    "id": "9xBQR6Ti37YB"
   },
   "outputs": [],
   "source": [
    "model = tkm.Sequential()\n",
    "model.add(tkl.Input(shape=(4,)))\n",
    "model.add(tkl.Dense(12, activation='relu'))\n",
    "model.add(tkl.Dense(8, activation='relu'))\n",
    "model.add(tkl.Dense(1, activation='sigmoid'))"
   ]
  },
  {
   "cell_type": "markdown",
   "metadata": {
    "id": "MziholBx383I"
   },
   "source": [
    "Compile model and fit it on the dataset"
   ]
  },
  {
   "cell_type": "code",
   "execution_count": null,
   "metadata": {
    "colab": {
     "base_uri": "https://localhost:8080/"
    },
    "collapsed": true,
    "id": "det0SJ5J0zFY",
    "outputId": "c4747485-18a6-4b59-fde2-871505646b9c"
   },
   "outputs": [],
   "source": [
    "model.compile(loss='binary_crossentropy', optimizer='adam', metrics=['accuracy'])\n",
    "\n",
    "model.fit(X_train, y_train, epochs=150, batch_size=10)"
   ]
  },
  {
   "cell_type": "markdown",
   "metadata": {
    "id": "HpLV2Nsq0zFY"
   },
   "source": [
    "# Eval the classifier"
   ]
  },
  {
   "cell_type": "markdown",
   "metadata": {
    "id": "m_DM0sIg5PCz"
   },
   "source": [
    "Evaluate the keras model"
   ]
  },
  {
   "cell_type": "code",
   "execution_count": 9,
   "metadata": {
    "colab": {
     "base_uri": "https://localhost:8080/"
    },
    "id": "idPSxMXi0zFY",
    "outputId": "d60247b5-1049-4610-9c4f-d2d61102e86d"
   },
   "outputs": [
    {
     "name": "stdout",
     "output_type": "stream",
     "text": [
      "\u001b[1m2/2\u001b[0m \u001b[32m━━━━━━━━━━━━━━━━━━━━\u001b[0m\u001b[37m\u001b[0m \u001b[1m0s\u001b[0m 5ms/step - accuracy: 0.9051 - loss: 24.5478  \n",
      "Accuracy: 88.89\n"
     ]
    }
   ],
   "source": [
    "_, accuracy = model.evaluate(X_test, y_test)\n",
    "print('Accuracy: %.2f' % (accuracy*100))"
   ]
  }
 ],
 "metadata": {
  "colab": {
   "provenance": []
  },
  "kernelspec": {
   "display_name": ".venv",
   "language": "python",
   "name": "python3"
  },
  "language_info": {
   "codemirror_mode": {
    "name": "ipython",
    "version": 3
   },
   "file_extension": ".py",
   "mimetype": "text/x-python",
   "name": "python",
   "nbconvert_exporter": "python",
   "pygments_lexer": "ipython3",
   "version": "3.12.3"
  }
 },
 "nbformat": 4,
 "nbformat_minor": 0
}
